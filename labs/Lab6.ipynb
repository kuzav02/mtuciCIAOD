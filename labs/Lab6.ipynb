{
  "cells": [
    {
      "cell_type": "markdown",
      "metadata": {
        "id": "0z3KlfKDn4_K"
      },
      "source": [
        "# Лабораторная работа 6. \n",
        "# Сетевые алгоритмы. Динамические алгоритмы поиска путей.\n"
      ]
    },
    {
      "cell_type": "markdown",
      "metadata": {
        "id": "96Gi_LEvmSVH"
      },
      "source": [
        "## Выполнил студент группы БВТ2002 Кузнецов Алексей\n",
        "***"
      ]
    },
    {
      "cell_type": "markdown",
      "metadata": {
        "id": "GjdIp8aToKIe"
      },
      "source": [
        "### Задание\n",
        "\n",
        "1.  Реализовать алгоритм поиска кратчайшего расстояния между двумя вершинами ориентированного взвешенного графа в соответствии с вариантом. \n",
        "\n",
        "2.  Предусмотреть задание графа в виде матрицы смежности/инцидентности, читаемой из файла, либо графически с помощью пользовательского интерфейса. \n",
        "\n",
        "3.  Разработать графический интерфейс пользователя с визуализацией графа и отображением кратчайшего расстояния между задаваемыми пользователем вершинами.\n",
        "\n",
        "4. По результатам работы проанализировать временную сложность работы заданного алгоритма в зависимости от числа узлов и ребер графа.\n",
        "Данные представить в виде таблицы.\n",
        "\n"
      ]
    },
    {
      "cell_type": "markdown",
      "metadata": {
        "id": "LhhUXrAmotIA"
      },
      "source": [
        "### Алгоритмы:\n",
        "\n",
        "Алгоритм Флойда-Уоршелла| Алгоритм Дейкстры | Алгоритм Беллмана-Форда | Алгоритм Джонсона| Алгоритм Левита | Алгоритм Йена\n",
        "\n"
      ]
    },
    {
      "cell_type": "markdown",
      "metadata": {
        "id": "Wggfn8l7nG72"
      },
      "source": [
        "### Выполнение:"
      ]
    },
    {
      "cell_type": "code",
      "execution_count": null,
      "metadata": {
        "id": "681a95mZnOSa"
      },
      "outputs": [],
      "source": [
        "import copy\n",
        "import math\n",
        "import networkx as nx\n",
        "import time\n",
        "import queue"
      ]
    },
    {
      "cell_type": "code",
      "source": [
        "class Vertex:\n",
        "    def __init__(self, key):\n",
        "        self.id = key\n",
        "        self.connectedTo = {}\n",
        "\n",
        "    def addNeighbor(self, nbr, weight=0):\n",
        "        self.connectedTo[nbr] = weight"
      ],
      "metadata": {
        "id": "ruAmmxMR_eTD"
      },
      "execution_count": null,
      "outputs": []
    },
    {
      "cell_type": "code",
      "source": [
        "from numpy import int16\n",
        "class Graph:\n",
        "    def __init__(self):\n",
        "        self.vertList = {}\n",
        "        self.numVertices = 0\n",
        "\n",
        "    def addVertex(self, key):\n",
        "        if key not in self.vertList.keys():\n",
        "            self.numVertices += 1\n",
        "            self.vertList[key] = Vertex(key)\n",
        "\n",
        "    def addEdge(self, f, t, cost=0):\n",
        "        self.addVertex(f)\n",
        "        self.addVertex(t)\n",
        "        self.vertList[f].addNeighbor(self.vertList[t], cost)\n",
        "\n",
        "    def floyd(self, count_vert, target, start=0):\n",
        "        Prev = [[None for j in range(count_vert)] for i in range(count_vert)] \n",
        "        d = []\n",
        "        with open('matrix.txt', 'r') as f:\n",
        "            for line in f:\n",
        "                d.append(list(map(int, line.strip().split())))\n",
        "        f.close()\n",
        "        for i in range(count_vert):\n",
        "            for j in range(count_vert):\n",
        "                if d[i][j] == 0:\n",
        "                    d[i][j] = math.inf\n",
        "        for k in range(count_vert):\n",
        "           for i in range(count_vert):\n",
        "                for j in range(count_vert):\n",
        "                    if d[i][k] < math.inf and d[k][j] < math.inf and d[i][k] + d[k][j] < d[i][j]:\n",
        "                        d[i][j] = d[i][k] + d[k][j]\n",
        "                        Prev[i][j] = Prev[k][j]\n",
        "        d[start][start] = 0\n",
        "        Path = [] \n",
        "        while j is not None: \n",
        "            Path.append(j) \n",
        "            j = Prev[i][j] \n",
        "        Path.append(start)\n",
        "        Path.insert(0, target)\n",
        "        Path = Path[::-1]\n",
        "        return d[start][target], Path\n",
        "\n",
        "    def dijkstra(self, count_vert, target, start=0):\n",
        "        if target not in self.vertList.keys() or start not in self.vertList.keys():\n",
        "            return math.inf\n",
        "        visited = []\n",
        "        array = {}\n",
        "        for i in range(count_vert):\n",
        "            array[i] = math.inf\n",
        "        array[start] = 0\n",
        "        array2 = [[] * count_vert] * count_vert \n",
        "        v = self.vertList[start]\n",
        "        while len(visited) != count_vert:\n",
        "            for i in v.connectedTo.keys():\n",
        "                if array[i.id] > array[v.id] + v.connectedTo[i]:\n",
        "                    array[i.id] = array[v.id] + v.connectedTo[i]\n",
        "                    array2[i.id] = copy.copy(array2[v.id])\n",
        "                    array2[i.id].append(v.id)\n",
        "            visited.append(v.id)\n",
        "            sd = sorted(array, key=array.get)\n",
        "            for i in sd:\n",
        "                if i not in visited:\n",
        "                    v = self.vertList[i]\n",
        "                    break\n",
        "        for i in range(len(array2)):\n",
        "            array2[i].append(i)\n",
        "        return array[target], array2[target]\n",
        "\n",
        "    def bellman_ford(self, count_vert, target, start=0):\n",
        "        distance = [math.inf] * count_vert\n",
        "        distance[start] = 0\n",
        "        pred={}\n",
        "        for _ in range(count_vert):\n",
        "            for i in self.vertList.keys():\n",
        "                for j in self.vertList[i].connectedTo.keys():\n",
        "                    if distance[i] + self.vertList[i].connectedTo[j] < distance[j.id]:\n",
        "                        distance[j.id] = distance[i] + self.vertList[i].connectedTo[j]\n",
        "                        pred[j.id] = i\n",
        "\n",
        "        for k in self.vertList.keys():\n",
        "            for l in self.vertList[k].connectedTo.keys():\n",
        "                try:\n",
        "                    assert distance[k] + self.vertList[k].connectedTo[l] >= distance[l.id], 'negative cycle exists!'\n",
        "                except KeyError:\n",
        "                    pass\n",
        "        previous = target\n",
        "        path = []\n",
        "        while pred:\n",
        "            path.insert(0, previous)\n",
        "            if previous == start:\n",
        "                break\n",
        "            previous = pred[previous]\n",
        "        return distance[target], path\n",
        "\n",
        "    def levit(self, count_vert, target, start=0):\n",
        "        if target not in self.vertList.keys() or start not in self.vertList.keys():\n",
        "            return math.inf\n",
        "        m0, m1_2, m2 = [], [], []\n",
        "        m1_1 = [start]\n",
        "        for i in range(count_vert):\n",
        "            if i != start:\n",
        "                m2.append(i)\n",
        "        array = [math.inf] * count_vert\n",
        "        array[start] = 0\n",
        "        array2 = [[] * count_vert] * count_vert\n",
        "        while len(m1_1) != 0 or len(m1_2) != 0:\n",
        "            if len(m1_2) != 0:\n",
        "                v = self.vertList[m1_2[0]]\n",
        "                m0.append(m1_2[0])\n",
        "                m1_2.pop(0)\n",
        "            elif len(m1_1) != 0:\n",
        "                v = self.vertList[m1_1[0]]\n",
        "                m0.append(m1_1[0])\n",
        "                m1_1.pop(0)\n",
        "            i = v.id\n",
        "            v_neig = v.connectedTo.keys()\n",
        "            for k in v_neig:\n",
        "                j = k.id\n",
        "                if j in m2:\n",
        "                    array[j] = array[i] + v.connectedTo[k]\n",
        "                    array2[j] = copy.copy(array2[i])\n",
        "                    array2[j].append(i)\n",
        "                    m1_1.append(j)\n",
        "                    m2.remove(j)\n",
        "                elif j in m1_1 or j in m1_2:\n",
        "                    if array[j] > array[i] + v.connectedTo[k]:\n",
        "                        array[j] = array[i] + v.connectedTo[k]\n",
        "                        array2[j] = copy.copy(array2[i])\n",
        "                        array2[j].append(i)\n",
        "                elif j in m0:\n",
        "                    if array[j] > array[i] + v.connectedTo[k]:\n",
        "                        array[j] = array[i] + v.connectedTo[k]\n",
        "                        array2[j] = copy.copy(array2[i])\n",
        "                        array2[j].append(i)\n",
        "                        m1_2.append(j)\n",
        "                        m0.remove(j)\n",
        "        for i in range(len(array2)):\n",
        "            array2[i].append(i)\n",
        "        return array[target], array2[target]\n",
        "\n",
        "    def jonson(self, count_vert, g, target, start=0):\n",
        "        dist = []\n",
        "        for i in range(count_vert):\n",
        "            self.addEdge(count_vert, i)\n",
        "        for i in range(count_vert):\n",
        "            dis, path = self.bellman_ford(count_vert+1, i, count_vert)\n",
        "            dist.append(dis)\n",
        "        for i in range(count_vert):\n",
        "            for j in g.vertList[i].connectedTo.keys():\n",
        "                g.vertList[i].connectedTo[j] += dist[i] - dist[j.id]\n",
        "        \n",
        "        dist1, path1 = g.dijkstra(count_vert, target, start=0)\n",
        "        dist1 = dist1 - dist[start] + dist[target]\n",
        "        return dist1, path1\n",
        "\n",
        "    def iena(self, count_vert, col, target, start=0):\n",
        "        slov = {}\n",
        "        dist, path = self.dijkstra(count_vert, target, start)\n",
        "        slov[dist] = path\n",
        "        candidates = []\n",
        "        candidates_length = []\n",
        "        while len(slov) != col:\n",
        "            root_path = []\n",
        "            g = copy.deepcopy(self)\n",
        "            l1 = 0\n",
        "            for i in range(len(slov[dist])-1):\n",
        "                if i != 0:\n",
        "                    root_path.append(slov[dist][i-1])\n",
        "                l1 += g.vertList[slov[dist][i]].connectedTo[g.vertList[slov[dist][i+1]]]\n",
        "                l2 = g.vertList[slov[dist][i]].connectedTo[g.vertList[slov[dist][i+1]]]\n",
        "                del g.vertList[slov[dist][i]].connectedTo[g.vertList[slov[dist][i+1]]]\n",
        "                l, spur_path = g.dijkstra(count_vert, target, slov[dist][i])\n",
        "                total_path = root_path+spur_path\n",
        "                if total_path not in candidates and total_path not in slov.values():\n",
        "                    candidates.append(total_path)\n",
        "                    if i == 0:\n",
        "                        candidates_length.append(l)\n",
        "                    else: \n",
        "                        candidates_length.append(l+l1-l2)\n",
        "            index = candidates_length.index(min(candidates_length))\n",
        "            if candidates_length[index] == math.inf:\n",
        "                break\n",
        "            slov[candidates_length[index]] = candidates[index]\n",
        "            dist = candidates_length[index]\n",
        "            candidates_length.pop(index)\n",
        "            candidates.pop(index) \n",
        "            \n",
        "        return slov\n"
      ],
      "metadata": {
        "id": "D96o3OQo_jhS"
      },
      "execution_count": null,
      "outputs": []
    },
    {
      "cell_type": "code",
      "source": [
        "g = Graph()\n",
        "file = open('matrix.txt', 'r')\n",
        "count = 0\n",
        "\n",
        "G = nx.DiGraph()\n",
        "\n",
        "for line in file:\n",
        "    g.addVertex(count)\n",
        "    lst = [int(x) for x in line.split()]\n",
        "    \n",
        "    if count == 0: \n",
        "        G.add_nodes_from(list(range(0,len(lst))))\n",
        "    \n",
        "    for i in range(len(lst)):\n",
        "        if lst[i] != 0:\n",
        "            G.add_edge(count, i, length = lst[i])\n",
        "            g.addEdge(count, i, lst[i])\n",
        "    count += 1\n",
        "file.close()  "
      ],
      "metadata": {
        "id": "k_2u-r88_rFh"
      },
      "execution_count": null,
      "outputs": []
    },
    {
      "cell_type": "code",
      "source": [
        "start_time = time.time()\n",
        "print(g.dijkstra(count, 4, 0))\n",
        "print(g.levit(count, 4, 0))\n",
        "print(g.bellman_ford(count, 4, 0))\n",
        "print(g.floyd(count, 4, 0))\n",
        "print(g.jonson(count, copy.deepcopy(g), 4, 0))\n",
        "print(g.iena(count, 20, 4, 0))\n",
        "dist, path = g.dijkstra(count, 4, 0)\n",
        "print(\"--- %s seconds ---\" % (time.time() - start_time))\n",
        "\n",
        "pos = nx.circular_layout(G)\n",
        "edge_colors = []\n",
        "node_colors = []\n",
        "label=dict([((u,v,),d['length']) for u, v, d in G.edges(data=True)])\n",
        "\n",
        "for u, v in G.edges():\n",
        "    if u in path and v in path:\n",
        "        k, l = path.index(u), path.index(v)\n",
        "        if abs(k - l) == 1:\n",
        "            edge_colors.append('g')\n",
        "        else:\n",
        "            edge_colors.append('k')\n",
        "    else:\n",
        "        edge_colors.append('k')\n",
        "\n",
        "for i in G.nodes():\n",
        "    if i in path:\n",
        "        if path.index(i) == 0:\n",
        "            node_colors.append('r')\n",
        "        elif path.index(i) == len(path)-1:\n",
        "            node_colors.append('#e356d5')\n",
        "        else:\n",
        "            node_colors.append('#1f78b4')\n",
        "    else:\n",
        "        node_colors.append('#1f78b4')\n",
        "\n",
        "nx.draw_networkx_edge_labels(G, pos, edge_labels=label, label_pos=0.3, font_size=10)       \n",
        "nx.draw(G, pos, edge_color=(edge_colors), node_color = (node_colors), node_size = 700, width = 4, font_size = 15, with_labels=True)"
      ],
      "metadata": {
        "colab": {
          "base_uri": "https://localhost:8080/",
          "height": 390
        },
        "id": "OdcS1TlEAI3s",
        "outputId": "5a355f46-d9a1-477c-edca-f649bae077ad"
      },
      "execution_count": null,
      "outputs": [
        {
          "output_type": "stream",
          "name": "stdout",
          "text": [
            "(10, [0, 5, 4])\n",
            "(10, [0, 5, 4])\n",
            "(10, [0, 5, 4])\n",
            "(10, [0, 5, 4])\n",
            "(10, [0, 5, 4])\n",
            "{10: [0, 5, 4], 20: [0, 5, 2, 3, 4], 24: [0, 5, 2, 3, 5, 4], 25: [0, 1, 2, 3, 4], 29: [0, 1, 2, 3, 5, 4]}\n",
            "--- 0.004717111587524414 seconds ---\n"
          ]
        },
        {
          "output_type": "display_data",
          "data": {
            "text/plain": [
              "<Figure size 432x288 with 1 Axes>"
            ],
            "image/png": "[encoded data removed]"
          },
          "metadata": {}
        }
      ]
    },
    {
      "cell_type": "markdown",
      "metadata": {
        "id": "diOb-K7LnO5a"
      },
      "source": [
        "### Вывод"
      ]
    }
  ],
  "metadata": {
    "colab": {
      "name": "Lab6 (2).ipynb",
      "provenance": [],
      "collapsed_sections": []
    },
    "kernelspec": {
      "display_name": "Python 3 (ipykernel)",
      "language": "python",
      "name": "python3"
    },
    "language_info": {
      "codemirror_mode": {
        "name": "ipython",
        "version": 3
      },
      "file_extension": ".py",
      "mimetype": "text/x-python",
      "name": "python",
      "nbconvert_exporter": "python",
      "pygments_lexer": "ipython3",
      "version": "3.10.2"
    }
  },
  "nbformat": 4,
  "nbformat_minor": 0
}