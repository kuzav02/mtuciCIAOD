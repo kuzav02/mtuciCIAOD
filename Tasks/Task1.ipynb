{
  "cells": [
    {
      "cell_type": "markdown",
      "id": "244314fb",
      "metadata": {
        "id": "244314fb"
      },
      "source": [
        "# Задание 1"
      ]
    },
    {
      "cell_type": "markdown",
      "id": "64630386",
      "metadata": {
        "id": "64630386"
      },
      "source": [
        "Даны две строки: `s1` и `s2` с одинаковым размером.\n",
        "\n",
        "Проверьте, может ли некоторая перестановка строки `s1` “победить” некоторую перестановку строки `s2` или наоборот.\n",
        "\n",
        "Строка x может “победить” строку y (обе имеют размер n), если `x[i] >= y[i]` (в алфавитном порядке) для всех i от 0 до n-1.\n"
      ]
    },
    {
      "cell_type": "markdown",
      "id": "cf51dab2",
      "metadata": {
        "id": "cf51dab2"
      },
      "source": [
        "## Ввод"
      ]
    },
    {
      "cell_type": "markdown",
      "id": "d697a747",
      "metadata": {
        "id": "d697a747"
      },
      "source": [
        "`abc`\n",
        "`xya`"
      ]
    },
    {
      "cell_type": "markdown",
      "id": "50b10a2e",
      "metadata": {
        "id": "50b10a2e"
      },
      "source": [
        "## Вывод"
      ]
    },
    {
      "cell_type": "markdown",
      "id": "55442a49",
      "metadata": {
        "id": "55442a49"
      },
      "source": [
        "`True`\n",
        "\n",
        "### Исполняемый код записать в ячейку ниже:"
      ]
    },
    {
      "cell_type": "code",
      "execution_count": null,
      "id": "3b0d440a",
      "metadata": {
        "colab": {
          "base_uri": "https://localhost:8080/"
        },
        "id": "3b0d440a",
        "outputId": "c3b6efb1-32da-4670-f3eb-05e5a048224e"
      },
      "outputs": [
        {
          "output_type": "stream",
          "name": "stdout",
          "text": [
            "True\n"
          ]
        }
      ],
      "source": [
        "s1 = \"abc\"\n",
        "s2 = \"bad\"\n",
        "s3 = sorted(list(s1))\n",
        "s4 = sorted(list(s2))\n",
        "if set(list(map(lambda q, p: q >= p, s3, s4))) == {True} or set(list(map(lambda q, p: q >= p, s4, s3))) == {True}:\n",
        "  print(True)"
      ]
    },
    {
      "cell_type": "markdown",
      "id": "b3a969a6",
      "metadata": {
        "id": "b3a969a6"
      },
      "source": [
        "# Задание 2"
      ]
    },
    {
      "cell_type": "markdown",
      "id": "9c1ce05d",
      "metadata": {
        "id": "9c1ce05d"
      },
      "source": [
        "Дана строка `s`, вернуть самую длинную полиндромную подстроку в `s`."
      ]
    },
    {
      "cell_type": "markdown",
      "id": "20415c0e",
      "metadata": {
        "id": "20415c0e"
      },
      "source": [
        "## Ввод"
      ]
    },
    {
      "cell_type": "markdown",
      "id": "e77fcb44",
      "metadata": {
        "id": "e77fcb44"
      },
      "source": [
        "`babad`"
      ]
    },
    {
      "cell_type": "markdown",
      "id": "49996449",
      "metadata": {
        "id": "49996449"
      },
      "source": [
        "## Вывод"
      ]
    },
    {
      "cell_type": "markdown",
      "id": "75be2464",
      "metadata": {
        "id": "75be2464"
      },
      "source": [
        "`aba` или `bab`"
      ]
    },
    {
      "cell_type": "markdown",
      "id": "12ef9771",
      "metadata": {
        "id": "12ef9771"
      },
      "source": [
        "## Исполняемый код записывать в ячейку ниже"
      ]
    },
    {
      "cell_type": "code",
      "execution_count": null,
      "id": "3f06c4fc",
      "metadata": {
        "colab": {
          "base_uri": "https://localhost:8080/",
          "height": 36
        },
        "id": "3f06c4fc",
        "outputId": "3473d5af-bdc4-4716-faeb-11a2b518cb2f"
      },
      "outputs": [
        {
          "output_type": "execute_result",
          "data": {
            "application/vnd.google.colaboratory.intrinsic+json": {
              "type": "string"
            },
            "text/plain": [
              "'wewewewew'"
            ]
          },
          "metadata": {},
          "execution_count": 4
        }
      ],
      "source": [
        "def palindromes(text):\n",
        "    results = []\n",
        "    if text == \"\":\n",
        "        return \n",
        "\n",
        "    for i in range(len(text)):\n",
        "        for j in range(0, i):\n",
        "            chunk = text[j:i + 1]\n",
        "\n",
        "            if chunk == chunk[::-1]:\n",
        "                results.append(chunk)\n",
        "                \n",
        "    if results == []:\n",
        "        results += [text[0]]\n",
        "    return max(results, key=len)\n",
        "palindromes(\"awfasdwewewewew\")"
      ]
    },
    {
      "cell_type": "markdown",
      "id": "5f54b630",
      "metadata": {
        "id": "5f54b630"
      },
      "source": [
        "# Задание 3"
      ]
    },
    {
      "cell_type": "markdown",
      "id": "566f1d3b",
      "metadata": {
        "id": "566f1d3b"
      },
      "source": [
        "Вернуть количество отдельных непустых подстрок текста, которые могут быть записаны как конкатенация некоторой строки с самой собой (т.е. она может быть записана, как `a + a`, где `a` - некоторая строка)."
      ]
    },
    {
      "cell_type": "markdown",
      "id": "0f734fd8",
      "metadata": {
        "id": "0f734fd8"
      },
      "source": [
        "## Ввод"
      ]
    },
    {
      "cell_type": "markdown",
      "id": "e0be5554",
      "metadata": {
        "id": "e0be5554"
      },
      "source": [
        "`aabb`"
      ]
    },
    {
      "cell_type": "markdown",
      "id": "ab8eda0b",
      "metadata": {
        "id": "ab8eda0b"
      },
      "source": [
        "## Вывод"
      ]
    },
    {
      "cell_type": "markdown",
      "id": "1d716d36",
      "metadata": {
        "id": "1d716d36"
      },
      "source": [
        "2"
      ]
    },
    {
      "cell_type": "markdown",
      "id": "fcd91349",
      "metadata": {
        "id": "fcd91349"
      },
      "source": [
        "## Исполняемый код записывать в ячейку ниже"
      ]
    },
    {
      "cell_type": "code",
      "execution_count": null,
      "id": "be07379d",
      "metadata": {
        "id": "be07379d",
        "colab": {
          "base_uri": "https://localhost:8080/"
        },
        "outputId": "2c5286f7-49c8-41b1-bf1f-2e94d753b94d"
      },
      "outputs": [
        {
          "output_type": "stream",
          "name": "stdout",
          "text": [
            "9\n"
          ]
        }
      ],
      "source": [
        "s = \"aaaaaa\"\n",
        "print(len([s[j:j+i] for i in range(1, len(s)//2+1) for j in range(len(s)-i) if s[j:j+i] == s[j+i:j+i*2]]))"
      ]
    }
  ],
  "metadata": {
    "kernelspec": {
      "display_name": "Python 3 (ipykernel)",
      "language": "python",
      "name": "python3"
    },
    "language_info": {
      "codemirror_mode": {
        "name": "ipython",
        "version": 3
      },
      "file_extension": ".py",
      "mimetype": "text/x-python",
      "name": "python",
      "nbconvert_exporter": "python",
      "pygments_lexer": "ipython3",
      "version": "3.9.7"
    },
    "colab": {
      "name": "Tasks1.ipynb",
      "provenance": [],
      "collapsed_sections": []
    }
  },
  "nbformat": 4,
  "nbformat_minor": 5
}