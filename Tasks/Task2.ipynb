{
  "cells": [
    {
      "cell_type": "markdown",
      "metadata": {
        "id": "arctic-stocks"
      },
      "source": [
        "### Задание №1\n",
        "Массив A состоит из целых положительных чисел длин отрезков. Составьте из трех отрезков такой треугольник, чтобы его периметр был максимально возможным. Если невозможно составить треугольник с положительной площадью функция возвращает 0."
      ],
      "id": "arctic-stocks"
    },
    {
      "cell_type": "code",
      "execution_count": null,
      "metadata": {
        "colab": {
          "base_uri": "https://localhost:8080/"
        },
        "id": "caring-truck",
        "outputId": "16dec1f8-7fa8-4c32-cd3b-4c32a5dc2e75"
      },
      "outputs": [
        {
          "output_type": "stream",
          "name": "stdout",
          "text": [
            "998 923 823 \n",
            "p = 2744\n"
          ]
        }
      ],
      "source": [
        "A = [9, 923, 998, 235, 529, 694, 698, 69, 758, 823, 30000]\n",
        "A.sort(reverse=True)\n",
        "for i in range(len(A) - 2):\n",
        "    if A[i] < A[i + 1] + A[i + 2]:\n",
        "        print(A[i], A[i + 1], A[i + 2], \"\\np =\", A[i] + A[i + 1] + A[i + 2])\n",
        "        break\n",
        "if i == len(A) - 3:\n",
        "    print(0)"
      ],
      "id": "caring-truck"
    },
    {
      "cell_type": "markdown",
      "metadata": {
        "id": "maritime-conversation"
      },
      "source": [
        "### Задание №2\n",
        "Дан массив неотрицательных целых чисел nums. Расположите их в таком порядке, чтобы вместе они образовали максимально возможное число. Замечание: Результат может быть очень большим числом, поэтому представьте его как string, а не integer."
      ],
      "id": "maritime-conversation"
    },
    {
      "cell_type": "code",
      "execution_count": null,
      "metadata": {
        "colab": {
          "base_uri": "https://localhost:8080/",
          "height": 243
        },
        "id": "alert-charm",
        "outputId": "e2c633e2-5de6-4d34-d60e-250fd3beaf48"
      },
      "outputs": [
        {
          "output_type": "error",
          "ename": "TypeError",
          "evalue": "ignored",
          "traceback": [
            "\u001b[0;31m---------------------------------------------------------------------------\u001b[0m",
            "\u001b[0;31mTypeError\u001b[0m                                 Traceback (most recent call last)",
            "\u001b[0;32m<ipython-input-22-86517c2a943b>\u001b[0m in \u001b[0;36m<module>\u001b[0;34m()\u001b[0m\n\u001b[1;32m      1\u001b[0m \u001b[0mnums\u001b[0m \u001b[0;34m=\u001b[0m \u001b[0;34m[\u001b[0m\u001b[0;36m3432\u001b[0m\u001b[0;34m,\u001b[0m \u001b[0;36m34323\u001b[0m\u001b[0;34m]\u001b[0m\u001b[0;34m\u001b[0m\u001b[0;34m\u001b[0m\u001b[0m\n\u001b[0;32m----> 2\u001b[0;31m \u001b[0mmax\u001b[0m \u001b[0;34m=\u001b[0m \u001b[0mmax\u001b[0m\u001b[0;34m(\u001b[0m\u001b[0mnums\u001b[0m\u001b[0;34m)\u001b[0m\u001b[0;34m\u001b[0m\u001b[0;34m\u001b[0m\u001b[0m\n\u001b[0m\u001b[1;32m      3\u001b[0m \u001b[0;32mif\u001b[0m \u001b[0mmax\u001b[0m \u001b[0;34m==\u001b[0m \u001b[0;36m0\u001b[0m\u001b[0;34m:\u001b[0m\u001b[0;34m\u001b[0m\u001b[0;34m\u001b[0m\u001b[0m\n\u001b[1;32m      4\u001b[0m     \u001b[0mprint\u001b[0m\u001b[0;34m(\u001b[0m\u001b[0;36m0\u001b[0m\u001b[0;34m)\u001b[0m\u001b[0;34m\u001b[0m\u001b[0;34m\u001b[0m\u001b[0m\n\u001b[1;32m      5\u001b[0m \u001b[0;32melse\u001b[0m\u001b[0;34m:\u001b[0m\u001b[0;34m\u001b[0m\u001b[0;34m\u001b[0m\u001b[0m\n",
            "\u001b[0;31mTypeError\u001b[0m: 'int' object is not callable"
          ]
        }
      ],
      "source": [
        "nums = [3432, 34323]\n",
        "max = max(nums)\n",
        "if max == 0:\n",
        "    print(0)\n",
        "else:\n",
        "    nums.sort(reverse=True, key=lambda num: (str(num) + str(num)[0] * (len(str(max)) - len(str(num))), abs(int(str(num)[0]) - int(str(num)[-1]))))\n",
        "    print(''.join(str(x) for x in nums))"
      ],
      "id": "alert-charm"
    },
    {
      "cell_type": "markdown",
      "metadata": {
        "id": "catholic-roots"
      },
      "source": [
        "### Задание №3\n",
        "Дана матрица mat размером m * n, значения целочисленные. Напишите функцию, сортирующую каждую диагональ матрицы по возрастанию и возвращающую получившуюся матрицу."
      ],
      "id": "catholic-roots"
    },
    {
      "cell_type": "code",
      "execution_count": null,
      "metadata": {
        "colab": {
          "base_uri": "https://localhost:8080/"
        },
        "id": "cleared-anniversary",
        "outputId": "36a2ce0a-0c76-4edb-ee39-a1355438dea8"
      },
      "outputs": [
        {
          "name": "stdout",
          "output_type": "stream",
          "text": [
            "[36, 22, 87, 18, 61, 80, 64]\n",
            "[75, 81, 70, 87, 32, 56, 41]\n",
            "[63, 47, 62, 11, 82, 43, 30]\n",
            "[87, 30, 84, 61, 70, 80, 32]\n",
            "\n",
            "[36, 75, 87, 87, 87, 84, 82]\n",
            "[22, 81, 70, 62, 80, 64, 70]\n",
            "[63, 47, 61, 32, 61, 43, 80]\n",
            "[18, 30, 11, 56, 41, 30, 32]\n"
          ]
        }
      ],
      "source": [
        "import random\n",
        "\n",
        "m = 7\n",
        "n = 4\n",
        "mas = [[random.randint(10, 99) for j in range(m)] for i in range(n)]\n",
        "for i in range(n):\n",
        "    print(mas[i])\n",
        "arr = [[] for i in range(m + n - 1)]\n",
        "\n",
        "\n",
        "for i in range(n):\n",
        "    for j in range(m):\n",
        "        arr[i + j].append(mas[i][j])\n",
        "        if j == 0:\n",
        "            arr[i] = sorted(arr[i])\n",
        "        if j > 0 and i == n - 1:\n",
        "            arr[i + j] = sorted(arr[i + j])\n",
        "print()\n",
        "k = 0\n",
        "for i in range(n):\n",
        "    for j in range(m):\n",
        "        if i + j > m - 1:\n",
        "            k = i + j - m + 1\n",
        "        mas[i][j] = arr[i + j][len(arr[i + j]) - 1 - i + k]\n",
        "    k = 0\n",
        "    print(mas[i])"
      ],
      "id": "cleared-anniversary"
    }
  ],
  "metadata": {
    "colab": {
      "name": "Task2.ipynb",
      "provenance": []
    },
    "kernelspec": {
      "display_name": "Python 3 (ipykernel)",
      "language": "python",
      "name": "python3"
    },
    "language_info": {
      "codemirror_mode": {
        "name": "ipython",
        "version": 3
      },
      "file_extension": ".py",
      "mimetype": "text/x-python",
      "name": "python",
      "nbconvert_exporter": "python",
      "pygments_lexer": "ipython3",
      "version": "3.10.2"
    }
  },
  "nbformat": 4,
  "nbformat_minor": 5
}